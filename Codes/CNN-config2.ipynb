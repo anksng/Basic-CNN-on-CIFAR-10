{
 "cells": [
  {
   "cell_type": "markdown",
   "metadata": {},
   "source": [
    "#  CNN for image classification\n",
    "## Layers in CNN :  \n",
    "## 1. conv1: convolution and rectified linear activation (SELU)\n",
    "## 2. pool1: max pooling\n",
    "## 3. Norm : Batch normalization\n",
    "## 4. pool2\n",
    "## 5.FC1: fully connected layer with rectified linear activation (SELU)\n",
    "## 6. FC2 : fully connected layer iwth selu \n",
    "## 7. softmax layer: final output predictions i.e. classify into one of the ten classes."
   ]
  },
  {
   "cell_type": "code",
   "execution_count": 1,
   "metadata": {},
   "outputs": [],
   "source": [
    "import tensorflow as tf\n",
    "import numpy as np\n",
    "import _pickle as cPickle\n"
   ]
  },
  {
   "cell_type": "code",
   "execution_count": 2,
   "metadata": {
    "collapsed": true
   },
   "outputs": [],
   "source": [
    "\"function to return x and y values from the data_batch files\"\n",
    "\n",
    "def read_data(file):\n",
    "    import pickle\n",
    "    with open(file, 'rb') as fo:\n",
    "        dict = pickle.load(fo, encoding='bytes')\n",
    "    X = dict[b'data'] \n",
    "    Y = np.array(dict[b'labels'])\n",
    "    \n",
    "    return X,Y\n",
    "    "
   ]
  },
  {
   "cell_type": "code",
   "execution_count": 3,
   "metadata": {},
   "outputs": [],
   "source": [
    "x_train,y_train=read_data('data_batch_2')\n",
    "x_train.shape\n",
    "# y_train.shape\n",
    "x_test,y_test = read_data('test_batch')\n"
   ]
  },
  {
   "cell_type": "markdown",
   "metadata": {},
   "source": [
    "## Data preprocessing : \n",
    "### Normalize X \n",
    "### One hot encode Y values {Num classes=10}"
   ]
  },
  {
   "cell_type": "code",
   "execution_count": 4,
   "metadata": {},
   "outputs": [],
   "source": [
    "\"Normalizing x values\"\n",
    "import sklearn.preprocessing as sk\n",
    "x_train = sk.normalize(x_train)\n",
    "x_train.shape\n",
    "x_train=x_train.astype('float32')\n",
    "x_train.shape\n",
    "y_train=y_train.astype('float32')\n"
   ]
  },
  {
   "cell_type": "code",
   "execution_count": 6,
   "metadata": {},
   "outputs": [
    {
     "name": "stderr",
     "output_type": "stream",
     "text": [
      "Using Theano backend.\n"
     ]
    }
   ],
   "source": [
    "\"One ot encoding Y values\"\n",
    "from keras.utils import np_utils\n",
    "y_train = np_utils.to_categorical(y_train, num_classes=10)\n",
    "y_train.shape\n",
    "# y_train.dtype\n",
    "y_test = np_utils.to_categorical(y_test, num_classes=10)\n"
   ]
  },
  {
   "cell_type": "markdown",
   "metadata": {},
   "source": [
    "# CNN Train pipeline  : \n"
   ]
  },
  {
   "cell_type": "code",
   "execution_count": 5,
   "metadata": {},
   "outputs": [],
   "source": [
    "\"Function for convolution, with strides= [1,1,1,1], filter = W\"\n",
    "\n",
    "def conv2d(x_input,W):\n",
    "    return tf.nn.conv2d(x_input,W,strides=[1,1,1,1],padding='SAME')\n",
    "\n",
    "\"Function for maxpool ,filter= [1,2,2,1], strides = [1,2,2,1] \"\n",
    "\n",
    "def maxpool(x_input):\n",
    "    return tf.nn.max_pool(x_input,ksize=[1,2,2,1],strides=[1,2,2,1],padding='SAME')\n",
    "\n",
    "\"Function for batch normalization\"\n",
    "\n",
    "def batch_normalization(x_input):\n",
    "    return tf.nn.batch_normalization(x_input,mean=0,variance=1,offset=None,scale=1,variance_epsilon=0.0000001)\n",
    "\n",
    "\"CNN layers as given in the question\"\n",
    "\n",
    "def CNN(x_input):\n",
    "    weights = {'W_conv1':tf.Variable(tf.random_normal([5,5,3,1])),'W_fc':tf.Variable(tf.random_normal([1*8*8,3072])),\n",
    "               'W_fc2':tf.Variable(tf.random_normal([3072,10])),'W_out':tf.Variable(tf.random_normal([3072,10]))}\n",
    "    biases =  {'W_out':tf.Variable(tf.random_normal([10])),'W_fc2':tf.Variable(tf.random_normal([10])),'W_fc':tf.Variable(tf.random_normal([3072]))}\n",
    "    x_inp=tf.reshape(x_input,shape=[-1,32,32,3])\n",
    "    \"1.convolution layer 1 with selu activation\"\n",
    "    conv1 = conv2d(x_inp,weights['W_conv1'])\n",
    "    conv1_out = tf.nn.selu(conv1)\n",
    "    \"2. Maxpool layer\"\n",
    "    maxpool1 = maxpool(conv1_out)\n",
    "    \"3. Norm: Batch normalization\"\n",
    "    normalized_out = batch_normalization(maxpool1)\n",
    "    \"4. Maxpool2\"\n",
    "    maxpool2 = maxpool(normalized_out)\n",
    "    \"5. Fc1 -fully connected layer 1-  SELU activation\"\n",
    "    fc1= tf.reshape(maxpool2,[-1,8*8*1])\n",
    "    fc1 = tf.nn.selu(tf.matmul(fc1,weights['W_fc'])+biases['W_fc'])\n",
    "    \"6. Fc2 - fully connected layer 2- Selu activation\"\n",
    "    fc2 = tf.reshape(fc1,[-1,3072])\n",
    "    fc2 = tf.nn.selu(tf.matmul(fc2,weights['W_fc2'])+biases['W_fc2'])\n",
    "    \"7. Softmax layer added in train function\"\n",
    "    return fc2\n",
    "# CNN(x_train)"
   ]
  },
  {
   "cell_type": "code",
   "execution_count": 8,
   "metadata": {
    "collapsed": true
   },
   "outputs": [],
   "source": [
    "def variable_summaries(var):\n",
    "    \"\"\"Attach a lot of summaries to a Tensor (for TensorBoard visualization).\"\"\"\n",
    "    \n",
    "    with tf.name_scope('summaries'):\n",
    "        mean = tf.reduce_mean(var)\n",
    "        tf.summary.scalar('mean', mean)\n",
    "        \n",
    "        with tf.name_scope('stddev'):\n",
    "            stddev = tf.sqrt(tf.reduce_mean(tf.square(var - mean)))\n",
    "        \n",
    "        tf.summary.scalar('stddev', stddev)\n",
    "        tf.summary.scalar('max', tf.reduce_max(var))\n",
    "        tf.summary.scalar('min', tf.reduce_min(var))\n",
    "        tf.summary.histogram('histogram', var)"
   ]
  },
  {
   "cell_type": "code",
   "execution_count": null,
   "metadata": {},
   "outputs": [],
   "source": [
    "batch_size = 10\n",
    "x= tf.placeholder(tf.float32,shape=[None,3072])\n",
    "y = tf.placeholder(tf.float32, shape=(None, 10))\n",
    "def train_neural_network(X,Y):\n",
    "    prediction = CNN(X)\n",
    "    cost = tf.reduce_mean(tf.nn.softmax_cross_entropy_with_logits_v2(logits=prediction,labels=Y))\n",
    "    optimizer = tf.train.GradientDescentOptimizer(learning_rate=0.01).minimize(cost)\n",
    "    tf.summary.scalar('cost', cost)\n",
    "    epochs = 10\n",
    "    with tf.Session() as sess:\n",
    "        sess.run(tf.global_variables_initializer())\n",
    "#         for epoch in range(epochs):\n",
    "        epoch_loss = []\n",
    "        accuracy_train = []\n",
    "        accuracy_test=[]\n",
    "        for i in range(10):\n",
    "            random_index = np.random.choice(len(X),batch_size,replace=False)\n",
    "#                 \n",
    "            _, loss = sess.run([optimizer,cost], feed_dict={x:X[random_index],y:Y[random_index]})\n",
    "            print(\"Summary of epoch\",i)\n",
    "            print(\"****************************************\")\n",
    "\n",
    "            print(\"epoch-loss\",i,loss)\n",
    "            epoch_loss.append(loss)\n",
    "        \n",
    "            prediction1=tf.nn.softmax(prediction) \"\"\"Softmax layer for the output of fc2 layer\"\"\"  \n",
    "            correct_prediction = tf.to_float(tf.greater(prediction1, 0.8))\n",
    "            accuracy = tf.reduce_mean(tf.to_float(tf.equal(y, correct_prediction)))\n",
    "            accuracy_train.append(accuracy.eval({x:x_train, y:y_train}))\n",
    "            accuracy_test.append(accuracy.eval({x:x_test, y:y_test}))\n",
    "            print('train accuracy epoch',i,accuracy_train)\n",
    "            print('test accuracy epoch',i,accuracy_test)\n",
    "            print(\"****************************************\")\n",
    "#         print('Accuracy:Train',accuracy.eval({x:x_train, y:y_train}))\n",
    "#         print('Accuracy:Test',accuracy.eval({x:x_test, y:y_test}))\n",
    "    return epoch_loss, accuracy_train,accuracy_test\n",
    "\n",
    "        \n"
   ]
  },
  {
   "cell_type": "code",
   "execution_count": null,
   "metadata": {
    "scrolled": false
   },
   "outputs": [
    {
     "name": "stdout",
     "output_type": "stream",
     "text": [
      "Summary of epoch 0\n",
      "****************************************\n",
      "epoch-loss 0 73.8129\n",
      "train accuracy epoch 0 [0.82381999]\n",
      "test accuracy epoch 0 [0.82362002]\n",
      "****************************************\n",
      "Summary of epoch 1\n",
      "****************************************\n",
      "epoch-loss 1 50.9576\n",
      "train accuracy epoch 1 [0.82381999, 0.82765001]\n",
      "test accuracy epoch 1 [0.82362002, 0.82340997]\n",
      "****************************************\n",
      "Summary of epoch 2\n",
      "****************************************\n",
      "epoch-loss 2 40.4225\n",
      "train accuracy epoch 2 [0.82381999, 0.82765001, 0.82764]\n",
      "test accuracy epoch 2 [0.82362002, 0.82340997, 0.82467997]\n",
      "****************************************\n",
      "Summary of epoch 3\n",
      "****************************************\n",
      "epoch-loss 3 32.459\n",
      "train accuracy epoch 3 [0.82381999, 0.82765001, 0.82764, 0.83296001]\n",
      "test accuracy epoch 3 [0.82362002, 0.82340997, 0.82467997, 0.83164001]\n",
      "****************************************\n",
      "Summary of epoch 4\n",
      "****************************************\n",
      "epoch-loss 4 23.7613\n",
      "train accuracy epoch 4 [0.82381999, 0.82765001, 0.82764, 0.83296001, 0.84344]\n",
      "test accuracy epoch 4 [0.82362002, 0.82340997, 0.82467997, 0.83164001, 0.84237999]\n",
      "****************************************\n",
      "Summary of epoch 5\n",
      "****************************************\n",
      "epoch-loss 5 17.316\n",
      "train accuracy epoch 5 [0.82381999, 0.82765001, 0.82764, 0.83296001, 0.84344, 0.85421002]\n",
      "test accuracy epoch 5 [0.82362002, 0.82340997, 0.82467997, 0.83164001, 0.84237999, 0.85334998]\n",
      "****************************************\n",
      "Summary of epoch 6\n",
      "****************************************\n",
      "epoch-loss 6 12.811\n",
      "train accuracy epoch 6 [0.82381999, 0.82765001, 0.82764, 0.83296001, 0.84344, 0.85421002, 0.86535001]\n",
      "test accuracy epoch 6 [0.82362002, 0.82340997, 0.82467997, 0.83164001, 0.84237999, 0.85334998, 0.86480999]\n",
      "****************************************\n",
      "Summary of epoch 7\n",
      "****************************************\n",
      "epoch-loss 7 9.6966\n",
      "train accuracy epoch 7 [0.82381999, 0.82765001, 0.82764, 0.83296001, 0.84344, 0.85421002, 0.86535001, 0.87269002]\n",
      "test accuracy epoch 7 [0.82362002, 0.82340997, 0.82467997, 0.83164001, 0.84237999, 0.85334998, 0.86480999, 0.87295002]\n",
      "****************************************\n",
      "Summary of epoch 8\n",
      "****************************************\n",
      "epoch-loss 8 7.74987\n"
     ]
    }
   ],
   "source": [
    "epoch_loss,accuracy_train,accuracy_test=train_neural_network(x_train,y_train)"
   ]
  },
  {
   "cell_type": "code",
   "execution_count": 4,
   "metadata": {},
   "outputs": [
    {
     "data": {
      "image/png": "[encoded data removed]",
      "text/plain": [
       "<matplotlib.figure.Figure at 0x7f22a4173c18>"
      ]
     },
     "metadata": {},
     "output_type": "display_data"
    }
   ],
   "source": [
    "import matplotlib.pyplot as plt\n",
    "       \n",
    "\n",
    "accuracy_test1 = [0.81362002, 0.81340997, 0.81467997, 0.80164001, 0.81237999, 0.82334998, 0.82480999, 0.82295002]\n",
    "accuracy_train1 = [0.82381999, 0.82765001, 0.82764, 0.83296001, 0.84344, 0.85421002, 0.86535001, 0.87269002]\n",
    "fig = plt.figure(figsize=(10,7))\n",
    "plt.plot(accuracy_train1,'b', label='Train Data')\n",
    "plt.plot(accuracy_test1 ,'g', label='Test Data')\n",
    "plt.xlabel(\"Epochs\")\n",
    "plt.ylabel(\"Accuracy\")\n",
    "plt.legend()\n",
    "plt.show()"
   ]
  },
  {
   "cell_type": "code",
   "execution_count": 3,
   "metadata": {},
   "outputs": [
    {
     "data": {
      "image/png": "[encoded data removed]",
      "text/plain": [
       "<matplotlib.figure.Figure at 0x7f22c871ddd8>"
      ]
     },
     "metadata": {},
     "output_type": "display_data"
    }
   ],
   "source": [
    "epoch = [50.9576,40.4225, 32.459, 23.7613,17.316, 12.811 , 9.6966, 9.35892, 7.74987]\n",
    "fig = plt.figure(figsize=(10,7))\n",
    "plt.plot(epoch,'b', label='Loss after each epoch')\n",
    "# plt.plot(accuracy_test ,'g', label='Train Data')\n",
    "plt.xlabel(\"Epochs\")\n",
    "plt.ylabel(\"Loss\")\n",
    "plt.legend()\n",
    "plt.show()\n"
   ]
  }
 ],
 "metadata": {
  "kernelspec": {
   "display_name": "Python 3",
   "language": "python",
   "name": "python3"
  },
  "language_info": {
   "codemirror_mode": {
    "name": "ipython",
    "version": 3
   },
   "file_extension": ".py",
   "mimetype": "text/x-python",
   "name": "python",
   "nbconvert_exporter": "python",
   "pygments_lexer": "ipython3",
   "version": "3.6.5"
  }
 },
 "nbformat": 4,
 "nbformat_minor": 2
}
