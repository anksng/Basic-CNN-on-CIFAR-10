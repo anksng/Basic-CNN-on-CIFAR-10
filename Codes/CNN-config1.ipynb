{
 "cells": [
  {
   "cell_type": "markdown",
   "metadata": {},
   "source": [
    "# Ankit Singh\n"
   ]
  },
  {
   "cell_type": "markdown",
   "metadata": {},
   "source": [
    "# Ex 1 : CNN for image classification\n",
    "## Layers in CNN :  \n",
    "## 1. conv1: convolution and rectified linear activation (RELU)\n",
    "## 2. pool1: max pooling\n",
    "## 3. FC2: fully connected layer with rectified linear activation (RELU)\n",
    "## 4. softmax layer: final output predictions i.e. classify into one of the ten classes.\n"
   ]
  },
  {
   "cell_type": "code",
   "execution_count": 2,
   "metadata": {
    "collapsed": true
   },
   "outputs": [],
   "source": [
    "import tensorflow as tf\n",
    "import numpy as np\n",
    "import _pickle as cPickle\n"
   ]
  },
  {
   "cell_type": "code",
   "execution_count": 3,
   "metadata": {
    "collapsed": true
   },
   "outputs": [],
   "source": [
    "\"function to return x and y values from the data_batch files\"\n",
    "def read_data(file):\n",
    "    import pickle\n",
    "    with open(file, 'rb') as fo:\n",
    "        dict = pickle.load(fo, encoding='bytes')\n",
    "    X = dict[b'data'] \n",
    "    Y = np.array(dict[b'labels'])\n",
    "    return X,Y\n",
    " "
   ]
  },
  {
   "cell_type": "markdown",
   "metadata": {},
   "source": [
    "## Data preprocessing : \n",
    "### Normalize X \n",
    "### One hot encode Y values {Num classes=10}"
   ]
  },
  {
   "cell_type": "code",
   "execution_count": 10,
   "metadata": {},
   "outputs": [
    {
     "name": "stdout",
     "output_type": "stream",
     "text": [
      "shape of X train: (10000, 3072)\n",
      "shape of y train: (10000,)\n"
     ]
    }
   ],
   "source": [
    "\"Train and test using read_data() function\"\n",
    "\n",
    "x_train,y_train=read_data('data_batch_2')\n",
    "x_test,y_test = read_data('test_batch')\n",
    "print(\"shape of X train:\",x_train.shape)\n",
    "print(\"shape of y train:\",y_train.shape)"
   ]
  },
  {
   "cell_type": "code",
   "execution_count": 11,
   "metadata": {},
   "outputs": [],
   "source": [
    "\"Normalizing x values\"\n",
    "import sklearn.preprocessing as sk\n",
    "x_train = sk.normalize(x_train)\n",
    "x_train.shape\n",
    "x_train=x_train.astype('float32')\n",
    "x_train.shape\n",
    "y_train=y_train.astype('float32')\n"
   ]
  },
  {
   "cell_type": "code",
   "execution_count": 12,
   "metadata": {},
   "outputs": [
    {
     "name": "stdout",
     "output_type": "stream",
     "text": [
      "Shape of one hot encoded y : (10000, 10)\n"
     ]
    }
   ],
   "source": [
    "\"One ot encoding Y values\"\n",
    "from keras.utils import np_utils\n",
    "y_train = np_utils.to_categorical(y_train, num_classes=10)\n",
    "y_train.shape\n",
    "# y_train.dtype\n",
    "y_test = np_utils.to_categorical(y_test, num_classes=10)\n",
    "print('Shape of one hot encoded y :',y_train.shape)"
   ]
  },
  {
   "cell_type": "markdown",
   "metadata": {},
   "source": [
    "# CNN \n",
    "### All the layers are commented below in the code. The weight dictionary consists of sizes as per output of each layer of CNN. In the end the output is of size [batch_size, num_classes=10]. Thus taking softmax of this output to calculate accuracy"
   ]
  },
  {
   "cell_type": "code",
   "execution_count": 7,
   "metadata": {},
   "outputs": [],
   "source": [
    "\"Function for convolution, with strides= [1,1,1,1], filter = W\"\n",
    "def conv2d(x_input,W):\n",
    "    return tf.nn.conv2d(x_input,W,strides=[1,1,1,1],padding='SAME')\n",
    "\n",
    "\"Function for maxpool ,filter= [1,2,2,1], strides = [1,2,2,1] \"\n",
    "def maxpool(x_input):\n",
    "    return tf.nn.max_pool(x_input,ksize=[1,2,2,1],strides=[1,2,2,1],padding='SAME')\n",
    "\n",
    "\"CNN layers as given in the question\"\n",
    "def CNN(x_input):\n",
    "    weights = {'W_conv1':tf.Variable(tf.random_normal([5,5,3,1])),'W_fc':tf.Variable(tf.random_normal([1*16*16,3072]))\n",
    "               ,'W_out':tf.Variable(tf.random_normal([3072,10]))}\n",
    "    biases =  {'W_out':tf.Variable(tf.random_normal([10])),'W_fc':tf.Variable(tf.random_normal([3072]))}\n",
    "    x_inp=tf.reshape(x_input,shape=[-1,32,32,3])\n",
    "    \n",
    "    \"1.convolution layer 1 with relu activation\"\n",
    "    conv1 = conv2d(x_inp,weights['W_conv1'])\n",
    "    conv1_out = tf.nn.relu(conv1)\n",
    "    \"2. Maxpool layer\"\n",
    "    maxpool1 = maxpool(conv1_out)\n",
    "    \"3. Fully connected layer 1: Relu activation \"\n",
    "    fc= tf.reshape(maxpool1,[-1,16*16*1])\n",
    "    fc = tf.nn.relu(tf.matmul(fc,weights['W_fc'])+biases['W_fc'])\n",
    "    \"4. Returns output of size: [batch_size, 10 ] as there are 10 number of classes\"\n",
    "    \"   softmax of this layer is done in the training pipeline\"\n",
    "    final_output = tf.matmul(fc,weights['W_out']) + biases['W_out']\n",
    "    return final_output\n",
    "# CNN(x_train)"
   ]
  },
  {
   "cell_type": "code",
   "execution_count": 8,
   "metadata": {
    "collapsed": true
   },
   "outputs": [],
   "source": [
    "def variable_summaries(var):\n",
    "    \"\"\"Attach a lot of summaries to a Tensor (for TensorBoard visualization).\"\"\"\n",
    "    \n",
    "    with tf.name_scope('summaries'):\n",
    "        mean = tf.reduce_mean(var)\n",
    "        tf.summary.scalar('mean', mean)\n",
    "        \n",
    "        with tf.name_scope('stddev'):\n",
    "            stddev = tf.sqrt(tf.reduce_mean(tf.square(var - mean)))\n",
    "        \n",
    "        tf.summary.scalar('stddev', stddev)\n",
    "        tf.summary.scalar('max', tf.reduce_max(var))\n",
    "        tf.summary.scalar('min', tf.reduce_min(var))\n",
    "        tf.summary.histogram('histogram', var)"
   ]
  },
  {
   "cell_type": "markdown",
   "metadata": {},
   "source": [
    "##  Training pipeline : \n",
    "The placeholders are assigned to hold the training data in batches of 10 and size of image (32 * 32 * 3) = 3072 .  Weights are initialized at random. Gradient descent optimizer is used with learning rate 0.01. Only one data batch is used as wokring with more dataset gives memory error."
   ]
  },
  {
   "cell_type": "code",
   "execution_count": null,
   "metadata": {},
   "outputs": [],
   "source": [
    "batch_size = 10\n",
    "x= tf.placeholder(tf.float32,shape=[None,3072])\n",
    "y = tf.placeholder(tf.float32, shape=(None, 10))\n",
    "def train_neural_network(X,Y):\n",
    "    prediction = CNN(X)\n",
    "    cost = tf.reduce_mean(tf.nn.softmax_cross_entropy_with_logits_v2(logits=prediction,labels=Y))\n",
    "    optimizer = tf.train.GradientDescentOptimizer(learning_rate=0.01).minimize(cost)\n",
    "    tf.summary.scalar('cost', cost)\n",
    "    epochs = 10\n",
    "    with tf.Session() as sess:\n",
    "        sess.run(tf.global_variables_initializer())\n",
    "#         for epoch in range(epochs):\n",
    "        epoch_loss = []\n",
    "        accuracy_train = []\n",
    "        accuracy_test=[]\n",
    "        for i in range(10):\n",
    "            random_index = np.random.choice(len(X),batch_size,replace=False)\n",
    "#                 \n",
    "            _, loss = sess.run([optimizer,cost], feed_dict={x:X[random_index],y:Y[random_index]})\n",
    "\n",
    "            print(\"epoch-loss\",i,loss)\n",
    "            epoch_loss.append(loss)\n",
    "            prediction1=tf.nn.softmax(prediction)       \n",
    "            correct_prediction = tf.to_float(tf.greater(prediction1, 0.7))\n",
    "            accuracy = tf.reduce_mean(tf.to_float(tf.equal(y, correct_prediction)))\n",
    "            accuracy_train.append(accuracy.eval({x:x_train, y:y_train}))\n",
    "            accuracy_test.append(accuracy.eval({x:x_test, y:y_test}))\n",
    "            print('train accuracy epoch',i,accuracy_train)\n",
    "            print('test accuracy epoch',i,accuracy_test)\n",
    "\n",
    "    return epoch_loss, accuracy_train,accuracy_test\n",
    "\n",
    "        \n"
   ]
  },
  {
   "cell_type": "code",
   "execution_count": null,
   "metadata": {
    "scrolled": false
   },
   "outputs": [
    {
     "name": "stdout",
     "output_type": "stream",
     "text": [
      "epoch-loss 0 79.0092\n",
      "train accuracy epoch 0 [0.82428998]\n",
      "test accuracy epoch 0 [0.82261002]\n",
      "epoch-loss 1 52.6131\n",
      "train accuracy epoch 1 [0.82428998, 0.82339001]\n",
      "test accuracy epoch 1 [0.82261002, 0.82413]\n",
      "epoch-loss 2 42.6305\n",
      "train accuracy epoch 2 [0.82428998, 0.82339001, 0.82349998]\n",
      "test accuracy epoch 2 [0.82261002, 0.82413, 0.82533997]\n",
      "epoch-loss 3 36.3964\n",
      "train accuracy epoch 3 [0.82428998, 0.82339001, 0.82349998, 0.82503998]\n",
      "test accuracy epoch 3 [0.82261002, 0.82413, 0.82533997, 0.82779998]\n",
      "epoch-loss 4 30.2787\n",
      "train accuracy epoch 4 [0.82428998, 0.82339001, 0.82349998, 0.82503998, 0.82775003]\n",
      "test accuracy epoch 4 [0.82261002, 0.82413, 0.82533997, 0.82779998, 0.83030999]\n",
      "epoch-loss 5 24.5908\n",
      "train accuracy epoch 5 [0.82428998, 0.82339001, 0.82349998, 0.82503998, 0.82775003, 0.83363003]\n",
      "test accuracy epoch 5 [0.82261002, 0.82413, 0.82533997, 0.82779998, 0.83030999, 0.83407003]\n",
      "epoch-loss 6 20.1059\n",
      "train accuracy epoch 6 [0.82428998, 0.82339001, 0.82349998, 0.82503998, 0.82775003, 0.83363003, 0.83679003]\n",
      "test accuracy epoch 6 [0.82261002, 0.82413, 0.82533997, 0.82779998, 0.83030999, 0.83407003, 0.83724999]\n",
      "epoch-loss 7 17.2697\n",
      "train accuracy epoch 7 [0.82428998, 0.82339001, 0.82349998, 0.82503998, 0.82775003, 0.83363003, 0.83679003, 0.84476]\n",
      "test accuracy epoch 7 [0.82261002, 0.82413, 0.82533997, 0.82779998, 0.83030999, 0.83407003, 0.83724999, 0.84495997]\n",
      "epoch-loss 8 15.4374\n"
     ]
    }
   ],
   "source": [
    "epoch_loss,accuracy_train,accuracy_test=train_neural_network(x_train,y_train)"
   ]
  },
  {
   "cell_type": "markdown",
   "metadata": {},
   "source": [
    "### Note the kernel dies after some iterations. While running in terminal it gives memory error"
   ]
  },
  {
   "cell_type": "code",
   "execution_count": 14,
   "metadata": {},
   "outputs": [
    {
     "data": {
      "image/png": "[encoded data removed]",
      "text/plain": [
       "<matplotlib.figure.Figure at 0x7fa139385908>"
      ]
     },
     "metadata": {},
     "output_type": "display_data"
    }
   ],
   "source": [
    "import matplotlib.pyplot as plt\n",
    "       \n",
    "\n",
    "accuracy_test = [0.82428998, 0.82339001, 0.82349998, 0.82503998, 0.82775003, 0.83363003, 0.83679003, 0.84476]\n",
    "accuracy_train = [0.82261002, 0.82413, 0.82533997, 0.82779998, 0.83030999, 0.83407003, 0.83724999, 0.84495997]\n",
    "\n",
    "accuracy_test1 = [0.81362002, 0.81340997, 0.81467997, 0.80164001, 0.81237999, 0.82334998, 0.82480999, 0.82295002]\n",
    "accuracy_train1 = [0.82381999, 0.82765001, 0.82764, 0.83296001, 0.84344, 0.85421002, 0.86535001, 0.87269002]\n",
    "fig = plt.figure(figsize=(10,7))\n",
    "plt.plot(accuracy_train,'b', label='Accuracy train- model1')\n",
    "plt.plot(accuracy_test ,'g', label='Accuracy test-model')\n",
    "plt.plot(accuracy_train1,'b', label='Accuracy train- model2')\n",
    "plt.plot(accuracy_test1 ,'g', label='Accuracy Test-model 2')\n",
    "\n",
    "plt.xlabel(\"Epochs\")\n",
    "plt.ylabel(\"Accuracy\")\n",
    "plt.legend()\n",
    "plt.show()"
   ]
  },
  {
   "cell_type": "code",
   "execution_count": 4,
   "metadata": {},
   "outputs": [
    {
     "data": {
      "image/png": "[encoded data removed]",
      "text/plain": [
       "<matplotlib.figure.Figure at 0x7fdf5bb30518>"
      ]
     },
     "metadata": {},
     "output_type": "display_data"
    }
   ],
   "source": [
    "epoch = [93.0757, 57.9441, 39.2892, 25.5567,19.5921, 15.7022, 13.202, 11.0105, 9.35892, 7.79902]\n",
    "fig = plt.figure(figsize=(10,7))\n",
    "plt.plot(epoch,'b', label='Loss after each epoch')\n",
    "# plt.plot(accuracy_test ,'g', label='Train Data')\n",
    "plt.xlabel(\"Epochs\")\n",
    "plt.ylabel(\"Loss\")\n",
    "plt.legend()\n",
    "plt.show()\n"
   ]
  }
 ],
 "metadata": {
  "kernelspec": {
   "display_name": "Python 3",
   "language": "python",
   "name": "python3"
  },
  "language_info": {
   "codemirror_mode": {
    "name": "ipython",
    "version": 3
   },
   "file_extension": ".py",
   "mimetype": "text/x-python",
   "name": "python",
   "nbconvert_exporter": "python",
   "pygments_lexer": "ipython3",
   "version": "3.6.5"
  }
 },
 "nbformat": 4,
 "nbformat_minor": 2
}
